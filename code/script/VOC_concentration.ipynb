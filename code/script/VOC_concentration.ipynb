{
 "cells": [
  {
   "cell_type": "code",
   "execution_count": 1,
   "metadata": {},
   "outputs": [],
   "source": [
    "import os, importlib, sys\n",
    "import pandas as pd\n",
    "import numpy as np\n",
    "import matplotlib.pyplot as plt\n",
    "from os import listdir\n",
    "from os.path import join, isfile"
   ]
  },
  {
   "cell_type": "code",
   "execution_count": 9,
   "metadata": {},
   "outputs": [],
   "source": [
    "df_VOC_2021 = pd.read_csv('../../data/raw/daily_VOCS_2021.csv')\n",
    "df_VOC_2021 = df_VOC_2021.loc[(df_VOC_2021['State Code']==6)&\n",
    "                                (df_VOC_2021['City Name']=='Rubidoux'),\n",
    "                              ['Date Local','Local Site Name','Parameter Name',\n",
    "                                'Units of Measure','Arithmetic Mean','1st Max Value']]\n",
    "df_VOC_2021 = df_VOC_2021[(df_VOC_2021['Date Local']>'2021-07-01')&\n",
    "                          (df_VOC_2021['Date Local']<'2021-10-31')]"
   ]
  },
  {
   "cell_type": "code",
   "execution_count": 25,
   "metadata": {},
   "outputs": [],
   "source": [
    "df_VOC_2021.groupby('Parameter Name').agg({'Arithmetic Mean':'mean', \n",
    "                                           'Units of Measure':'first'}).reset_index().to_csv('../../data/final/PAMS_VOC_avg_Riverside.csv', index=False)"
   ]
  }
 ],
 "metadata": {
  "kernelspec": {
   "display_name": "base",
   "language": "python",
   "name": "python3"
  },
  "language_info": {
   "codemirror_mode": {
    "name": "ipython",
    "version": 3
   },
   "file_extension": ".py",
   "mimetype": "text/x-python",
   "name": "python",
   "nbconvert_exporter": "python",
   "pygments_lexer": "ipython3",
   "version": "3.9.7"
  },
  "orig_nbformat": 4
 },
 "nbformat": 4,
 "nbformat_minor": 2
}
