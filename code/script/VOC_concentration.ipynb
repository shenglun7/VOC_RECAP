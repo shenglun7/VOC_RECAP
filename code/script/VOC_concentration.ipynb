{
 "cells": [
  {
   "cell_type": "code",
   "execution_count": 1,
   "metadata": {},
   "outputs": [],
   "source": [
    "import os, importlib, sys\n",
    "import pandas as pd\n",
    "import numpy as np\n",
    "import matplotlib.pyplot as plt\n",
    "from os import listdir\n",
    "from os.path import join, isfile"
   ]
  },
  {
   "cell_type": "markdown",
   "metadata": {},
   "source": [
    "# PAMS VOC in Riverside"
   ]
  },
  {
   "cell_type": "code",
   "execution_count": 9,
   "metadata": {},
   "outputs": [],
   "source": [
    "df_VOC_2021 = pd.read_csv('../../data/raw/daily_VOCS_2021.csv')\n",
    "df_VOC_2021 = df_VOC_2021.loc[(df_VOC_2021['State Code']==6)&\n",
    "                                (df_VOC_2021['City Name']=='Rubidoux'),\n",
    "                              ['Date Local','Local Site Name','Parameter Name',\n",
    "                                'Units of Measure','Arithmetic Mean','1st Max Value']]\n",
    "df_VOC_2021 = df_VOC_2021[(df_VOC_2021['Date Local']>'2021-07-01')&\n",
    "                          (df_VOC_2021['Date Local']<'2021-10-31')]"
   ]
  },
  {
   "cell_type": "code",
   "execution_count": 25,
   "metadata": {},
   "outputs": [],
   "source": [
    "df_VOC_2021.groupby('Parameter Name').agg({'Arithmetic Mean':'mean', \n",
    "                                           'Units of Measure':'first'}).reset_index().to_csv('../../data/final/PAMS_VOC_avg_Riverside.csv', index=False)"
   ]
  },
  {
   "cell_type": "markdown",
   "metadata": {},
   "source": [
    "# PAMS VOC in the SoCAB"
   ]
  },
  {
   "cell_type": "code",
   "execution_count": 32,
   "metadata": {},
   "outputs": [],
   "source": [
    "df_VOC_2021 = pd.read_csv('../../data/raw/daily_VOCS_2021.csv')\n",
    "df_VOC_2021 = df_VOC_2021[(df_VOC_2021['Date Local']>'2021-07-01')&\n",
    "                          (df_VOC_2021['Date Local']<'2021-10-31')]\n",
    "\n",
    "#site_name = ['Azusa', 'Los Angeles-North Main Street', 'Rubidoux']\n",
    "df_VOC_socab = df_VOC_2021.loc[(df_VOC_2021['State Code']==6)&\n",
    "    (df_VOC_2021['County Name'].isin(['Los Angeles','Riverside']))&\n",
    "    (df_VOC_2021['Sample Duration']=='24 HOUR'), \n",
    "    ['Date Local','Local Site Name','Parameter Name',\n",
    "     'Units of Measure','Arithmetic Mean','1st Max Value']]\n",
    "\n",
    "df_VOC_socab = df_VOC_socab.\\\n",
    "    groupby('Parameter Name').agg({'Arithmetic Mean':['mean','std'],\n",
    "                                   'Units of Measure':'first'}).reset_index()\n",
    "\n",
    "df_VOC_socab.to_csv('../../data/final/PAMS_VOC_SoCAB_avg.csv', index=False)"
   ]
  }
 ],
 "metadata": {
  "kernelspec": {
   "display_name": "base",
   "language": "python",
   "name": "python3"
  },
  "language_info": {
   "codemirror_mode": {
    "name": "ipython",
    "version": 3
   },
   "file_extension": ".py",
   "mimetype": "text/x-python",
   "name": "python",
   "nbconvert_exporter": "python",
   "pygments_lexer": "ipython3",
   "version": "3.9.7"
  },
  "orig_nbformat": 4
 },
 "nbformat": 4,
 "nbformat_minor": 2
}
