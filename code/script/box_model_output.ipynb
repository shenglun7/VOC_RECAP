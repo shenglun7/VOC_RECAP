{
 "cells": [
  {
   "cell_type": "markdown",
   "metadata": {},
   "source": [
    "This script analyze the output of O3 box model with source apportionment technique. The goal of this script is to find the O3 contribution from different source of VOCs from the box model for Redlands, CA"
   ]
  },
  {
   "cell_type": "code",
   "execution_count": 1,
   "metadata": {},
   "outputs": [],
   "source": [
    "import pandas as pd\n",
    "import numpy as np\n",
    "from os import listdir\n",
    "from os.path import join, isfile"
   ]
  },
  {
   "cell_type": "code",
   "execution_count": null,
   "metadata": {},
   "outputs": [],
   "source": [
    "df_merge = pd.DataFrame(columns=['Date','Time','O3_X1','O3_X2','O3_X3',\n",
    "                                               'O3_X4','O3_X5','O3_X6',\n",
    "                                               'O3_X7','O3_X8','O3_X9'])\n",
    "folderpath = '../../data/intermediate/box_model_output_bgX/'\n",
    "filelist = [f for f in listdir(folderpath) if \n",
    "            isfile(join(folderpath, f))]\n",
    "filelist = [s for s in filelist if 'results' in s ]\n",
    "\n",
    "for i in filelist:\n",
    "    filepath = folderpath+i\n",
    "    date = i[8:18]\n",
    "    print(filepath)\n",
    "    \n",
    "    with open(filepath) as f:    \n",
    "        contents = f.readlines()\n",
    "    \n",
    "    # get O3 concentration in list\n",
    "    list_O3 = [s for s in contents if \" O3 \" in s]\n",
    "    list_O3X1 = [s for s in contents if \" O3_X1\" in s]\n",
    "    list_O3X2 = [s for s in contents if \" O3_X2\" in s]\n",
    "    list_O3X3 = [s for s in contents if \" O3_X3\" in s]\n",
    "    list_O3X4 = [s for s in contents if \" O3_X4\" in s]\n",
    "    list_O3X5 = [s for s in contents if \" O3_X5\" in s]\n",
    "    list_O3X6 = [s for s in contents if \" O3_X6\" in s]\n",
    "    list_O3X7 = [s for s in contents if \" O3_X7\" in s]\n",
    "    list_O3X8 = [s for s in contents if \" O3_X8\" in s]\n",
    "    list_O3X9 = [s for s in contents if \" O3_X9\" in s]\n",
    "\n",
    "    # create df to store O3 source apportionment results in one model run\n",
    "    df = pd.DataFrame(columns=['Date','Time','O3_X1','O3_X2','O3_X3',\n",
    "                                             'O3_X4','O3_X5','O3_X6',\n",
    "                                             'O3_X7','O3_X8','O3_X9'])\n",
    "    df['Time'] = np.arange(0,490,10)\n",
    "    df['Date'] = date\n",
    "\n",
    "    # save O3 source concentration (O3X1, O3X2, O3X3) to df\n",
    "    for j in range(len(list_O3)):\n",
    "        df.loc[j,'O3_X1'] = list_O3X1[j][33:33+13]\n",
    "        df.loc[j,'O3_X2'] = list_O3X2[j][33:33+13]\n",
    "        df.loc[j,'O3_X3'] = list_O3X3[j][33:33+13]    \n",
    "        df.loc[j,'O3_X4'] = list_O3X4[j][33:33+13]\n",
    "        df.loc[j,'O3_X5'] = list_O3X5[j][33:33+13]\n",
    "        df.loc[j,'O3_X6'] = list_O3X6[j][33:33+13]    \n",
    "        df.loc[j,'O3_X7'] = list_O3X7[j][33:33+13]\n",
    "        df.loc[j,'O3_X8'] = list_O3X8[j][33:33+13]\n",
    "        df.loc[j,'O3_X9'] = list_O3X9[j][33:33+13]    \n",
    "    df_merge = pd.concat([df_merge, df])\n",
    "    \n",
    "# change vector type \n",
    "df_merge.loc[:,'Time':] = df_merge.loc[:,'Time':].astype(float)"
   ]
  }
 ],
 "metadata": {
  "kernelspec": {
   "display_name": "base",
   "language": "python",
   "name": "python3"
  },
  "language_info": {
   "codemirror_mode": {
    "name": "ipython",
    "version": 3
   },
   "file_extension": ".py",
   "mimetype": "text/x-python",
   "name": "python",
   "nbconvert_exporter": "python",
   "pygments_lexer": "ipython3",
   "version": "3.9.7"
  },
  "orig_nbformat": 4
 },
 "nbformat": 4,
 "nbformat_minor": 2
}
