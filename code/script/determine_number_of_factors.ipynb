{
 "cells": [
  {
   "cell_type": "code",
   "execution_count": null,
   "metadata": {},
   "outputs": [],
   "source": [
    "import pandas as pd\n",
    "import numpy as np\n",
    "from scipy import stats as st\n",
    "import matplotlib.pyplot as plt\n",
    "import datetime as dt\n",
    "import seaborn as sns\n",
    "from windrose import WindroseAxes\n",
    "import matplotlib.cm as cm\n",
    "import plotly.express as px\n",
    "import math\n",
    "import os, importlib, sys\n",
    "\n",
    "sys.path.append('../../code/src')\n",
    "#importlib.reload(sys.modules['pmf_result'])\n",
    "from pmf_result import pmf_output_to_df\n",
    "from pmf_result import plot_pmf_profile\n",
    "from pmf_result import plot_factor_time_series\n",
    "from pmf_result import reorder_factor, plot_CPF"
   ]
  }
 ],
 "metadata": {
  "kernelspec": {
   "display_name": "base",
   "language": "python",
   "name": "python3"
  },
  "language_info": {
   "codemirror_mode": {
    "name": "ipython",
    "version": 3
   },
   "file_extension": ".py",
   "mimetype": "text/x-python",
   "name": "python",
   "nbconvert_exporter": "python",
   "pygments_lexer": "ipython3",
   "version": "3.9.7"
  }
 },
 "nbformat": 4,
 "nbformat_minor": 2
}
